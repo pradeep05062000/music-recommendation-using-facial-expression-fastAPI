{
 "cells": [
  {
   "cell_type": "code",
   "execution_count": 3,
   "metadata": {},
   "outputs": [],
   "source": [
    "import tekore as tk\n",
    "from dotenv import load_dotenv\n",
    "import os"
   ]
  },
  {
   "cell_type": "code",
   "execution_count": 4,
   "metadata": {},
   "outputs": [
    {
     "data": {
      "text/plain": [
       "True"
      ]
     },
     "execution_count": 4,
     "metadata": {},
     "output_type": "execute_result"
    }
   ],
   "source": [
    "load_dotenv()"
   ]
  },
  {
   "cell_type": "code",
   "execution_count": 9,
   "metadata": {},
   "outputs": [],
   "source": [
    "CLIENT_ID = os.getenv('CLIENT_ID')\n",
    "CLIENT_SECRET = os.getenv('CLIENT_SECRET')"
   ]
  },
  {
   "cell_type": "code",
   "execution_count": 2,
   "metadata": {},
   "outputs": [
    {
     "data": {
      "text/plain": [
       "Spotify(token=RefreshingToken(access_token='BQB3ngBxe8-zaJp483sVD659gMGIXfP4lnkbgrZSpWCTn8HzQ6E5i0ar-Ga5STJChejMME9Pu3Rx8F1Al_RTRBNdUDDz5HHOVcIFXx4Yg4qZ5QXw5PA', refresh_token=None, scope=Scope('')), max_limits_on=False, chunked_on=False, sender=SyncSender())"
      ]
     },
     "execution_count": 2,
     "metadata": {},
     "output_type": "execute_result"
    }
   ],
   "source": [
    "app_token = tk.request_client_token(CLIENT_ID, CLIENT_SECRET)\n",
    "tk.Spotify(app_token)"
   ]
  },
  {
   "cell_type": "code",
   "execution_count": 21,
   "metadata": {},
   "outputs": [],
   "source": [
    "#################\n",
    "## PREPARATION ##\n",
    "#################\n",
    "\n",
    "# Import modules\n",
    "import sys\n",
    "# If your authentification script is not in the project directory\n",
    "# append its folder to sys.path\n",
    "sys.path.append(\"../spotify_api_web_app\")\n",
    "# import authorization\n",
    "import pandas as pd\n",
    "from tqdm import tqdm\n",
    "import time\n",
    "\n",
    "# Authorize and call access object \"sp\"\n",
    "sp = tk.Spotify(app_token)\n",
    "\n",
    "# Get all genres\n",
    "genres = sp.recommendation_genre_seeds()"
   ]
  },
  {
   "cell_type": "code",
   "execution_count": 22,
   "metadata": {},
   "outputs": [
    {
     "data": {
      "text/plain": [
       "126"
      ]
     },
     "execution_count": 22,
     "metadata": {},
     "output_type": "execute_result"
    }
   ],
   "source": [
    "len(genres)"
   ]
  },
  {
   "cell_type": "code",
   "execution_count": 30,
   "metadata": {},
   "outputs": [],
   "source": [
    "\n",
    "# Set number of recommendations per genre\n",
    "n_recs = 50\n",
    "\n",
    "# Initiate a dictionary with all the information you want to crawl\n",
    "data_dict = {\"id\":[], \"genre\":[], \"track_name\":[], \"artist_name\":[],\n",
    "             \"valence\":[], \"energy\":[],\"acousticness\":[],\n",
    "             \"danceability\":[],\"liveness\":[],\"loudness\":[],\n",
    "             \"tempo\":[],\"speechiness\":[],\"time_signature\":[],\n",
    "             \"key\":[],\"instrumentalness\":[]\n",
    "             }"
   ]
  },
  {
   "cell_type": "code",
   "execution_count": 11,
   "metadata": {},
   "outputs": [],
   "source": [
    "################\n",
    "## CRAWL DATA ##\n",
    "################\n",
    "\n",
    "# Get recs for every genre\n",
    "for g in tqdm(genres):\n",
    "    \n",
    "    # Get n recommendations\n",
    "    recs = sp.recommendations(genres = [g], limit = n_recs)\n",
    "    # json-like string to dict\n",
    "    recs = eval(recs.json().replace(\"null\", \"-999\").replace(\"false\", \"False\").replace(\"true\", \"True\"))[\"tracks\"]\n",
    "    \n",
    "    # Crawl data from each track\n",
    "    for track in recs:\n",
    "        try:\n",
    "            # ID and Genre\n",
    "            data_dict[\"id\"].append(track[\"id\"])\n",
    "            data_dict[\"genre\"].append(g)\n",
    "            # Metadata\n",
    "            track_meta = sp.track(track[\"id\"])\n",
    "            data_dict[\"track_name\"].append(track_meta.name)\n",
    "            data_dict[\"artist_name\"].append(track_meta.album.artists[0].name)\n",
    "\n",
    "            # music feature\n",
    "            track_features = sp.track_audio_features(track[\"id\"])\n",
    "            data_dict[\"valence\"].append(track_features.valence)\n",
    "            data_dict[\"energy\"].append(track_features.energy)\n",
    "            data_dict[\"acousticness\"].append(track_features.acousticness)\n",
    "            data_dict[\"danceability\"].append(track_features.danceability)\n",
    "            data_dict[\"liveness\"].append(track_features.liveness)\n",
    "            data_dict[\"loudness\"].append(track_features.loudness)\n",
    "            data_dict[\"tempo\"].append(track_features.tempo)\n",
    "            data_dict[\"speechiness\"].append(track_features.speechiness)\n",
    "            data_dict[\"time_signature\"].append(track_features.time_signature)\n",
    "            data_dict[\"key\"].append(track_features.key)\n",
    "            data_dict[\"instrumentalness\"].append(track_features.instrumentalness)\n",
    "            # Wait 0.2 seconds per track so that the api doesnt overheat\n",
    "            time.sleep(0.2)\n",
    "        except Exception as err:\n",
    "            print(err)\n",
    "            continue\n"
   ]
  },
  {
   "cell_type": "code",
   "execution_count": null,
   "metadata": {},
   "outputs": [],
   "source": [
    "##################\n",
    "## PROCESS DATA ##\n",
    "##################\n",
    "\n",
    "# Store data in dataframe\n",
    "df = pd.DataFrame(data_dict)\n",
    "\n",
    "# Drop duplicates\n",
    "df.drop_duplicates(subset = \"id\", keep = \"first\", inplace = True)\n",
    "df.to_csv(\"valence_arousal_dataset.csv\", index = False)"
   ]
  }
 ],
 "metadata": {
  "kernelspec": {
   "display_name": "Python 3.9.15 ('nlpenv')",
   "language": "python",
   "name": "python3"
  },
  "language_info": {
   "codemirror_mode": {
    "name": "ipython",
    "version": 3
   },
   "file_extension": ".py",
   "mimetype": "text/x-python",
   "name": "python",
   "nbconvert_exporter": "python",
   "pygments_lexer": "ipython3",
   "version": "3.9.15"
  },
  "orig_nbformat": 4,
  "vscode": {
   "interpreter": {
    "hash": "2334aa87bfce5ac642ce3c5b907d0826b3065bfd07a77c420c8b0ac73d1cd466"
   }
  }
 },
 "nbformat": 4,
 "nbformat_minor": 2
}
